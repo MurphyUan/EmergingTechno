{
  "metadata": {
    "language_info": {
      "codemirror_mode": {
        "name": "python",
        "version": 3
      },
      "file_extension": ".py",
      "mimetype": "text/x-python",
      "name": "python",
      "nbconvert_exporter": "python",
      "pygments_lexer": "ipython3",
      "version": "3.8"
    },
    "kernelspec": {
      "name": "python",
      "display_name": "Python (Pyodide)",
      "language": "python"
    }
  },
  "nbformat_minor": 4,
  "nbformat": 4,
  "cells": [
    {
      "cell_type": "markdown",
      "source": "Fast Fourier Transform\n=====",
      "metadata": {}
    },
    {
      "cell_type": "markdown",
      "source": "The fast Fourier transform (FFT) is an algorithm that efficiently computes the discrete Fourier transform (DFT) of a sequence, or its inverse. The Fourier transform is a mathematical technique that decomposes a function into its sinusoidal components, which can provide useful information about the properties of the function. The FFT is a widely used algorithm in various fields, including signal and image processing, computer graphics, and data analysis.\n\nA sinusoidal function, or sinusoidal wave, is a periodic function that oscillates around a fixed value. It is defined by the equation y = A sin(Bx + C) or y = A cos(Bx + C), where A is the amplitude of the wave, B is the frequency of the wave, and C is the phase shift of the wave. The sinusoidal function is named after the sine function, which is a special case of the sinusoidal function with a phase shift of C = 0.\n\nSinusoidal functions are used to model periodic phenomena in a wide range of fields, including physics, engineering, economics, and biology. They are particularly useful for describing oscillating systems, such as oscillating springs, pendulums, and electrical circuits.\n\nSinusoidal functions are characterized by their smooth, repetitive shape, which can be easily recognized by the distinctive \"sine\" or \"cosine\" shape. They are also periodic, meaning that they repeat after a fixed interval of time or space, and can be described by their wavelength and period.\n\nThe FFT algorithm reduces the computational complexity of the DFT from O(N^2) to O(N log N), where N is the length of the sequence. This means that the FFT can compute the DFT of a sequence much faster than the standard algorithm, especially for large N.\n\nThe FFT is a key tool in many signal processing applications, such as spectral analysis, filtering, and image manipulation. It is also used in a wide range of scientific and engineering fields, including physics, astronomy, and electrical engineering.",
      "metadata": {}
    },
    {
      "cell_type": "markdown",
      "source": "Complex Numbers\n=====",
      "metadata": {}
    },
    {
      "cell_type": "markdown",
      "source": "A complex number is a number in the form a + bi, where a and b are real numbers and i is the imaginary unit, defined as the square root of -1. The number a is called the real part of the complex number, and b is called the imaginary part.\n\nComplex numbers can be represented in the complex plane, which is a two-dimensional coordinate system where the real part of the complex number is plotted on the x-axis and the imaginary part is plotted on the y-axis. In this representation, a complex number is represented by a point in the plane, and the distance of the point from the origin (0,0) is called the magnitude, or modulus, of the complex number. The angle that the point makes with the positive x-axis is called the argument, or phase, of the complex number.\n\nBelow I will give a demonstration on simple complex(imaginary) numbers / coordinates",
      "metadata": {}
    },
    {
      "cell_type": "code",
      "source": "x1 = (3, 7)\nx1",
      "metadata": {
        "trusted": true
      },
      "execution_count": 2,
      "outputs": [
        {
          "execution_count": 2,
          "output_type": "execute_result",
          "data": {
            "text/plain": "(3, 7)"
          },
          "metadata": {}
        }
      ]
    },
    {
      "cell_type": "code",
      "source": "y1 = (-4, 5)\ny1",
      "metadata": {
        "trusted": true
      },
      "execution_count": 4,
      "outputs": [
        {
          "execution_count": 4,
          "output_type": "execute_result",
          "data": {
            "text/plain": "(-4, 5)"
          },
          "metadata": {}
        }
      ]
    },
    {
      "cell_type": "code",
      "source": "# Addition\ndef add(x, y):\n    return(x[0] + y[0], x[1] + y[1])",
      "metadata": {
        "trusted": true
      },
      "execution_count": 6,
      "outputs": [
        {
          "execution_count": 6,
          "output_type": "execute_result",
          "data": {
            "text/plain": "(-1, 12)"
          },
          "metadata": {}
        }
      ]
    },
    {
      "cell_type": "code",
      "source": "# Multiplication\ndef multiply(x, y):\n    a, b = x\n    c, d = y\n    return (a*c - b*d, a*d + b*c)\nmultiply(x1, y1)",
      "metadata": {
        "trusted": true
      },
      "execution_count": 7,
      "outputs": [
        {
          "execution_count": 7,
          "output_type": "execute_result",
          "data": {
            "text/plain": "(-47, -13)"
          },
          "metadata": {}
        }
      ]
    },
    {
      "cell_type": "code",
      "source": "# Built in Complex Type in Python\ncomplex\n\n(3 + 7j) + (-4 + 5j)",
      "metadata": {
        "trusted": true
      },
      "execution_count": 10,
      "outputs": [
        {
          "execution_count": 10,
          "output_type": "execute_result",
          "data": {
            "text/plain": "(-1+12j)"
          },
          "metadata": {}
        }
      ]
    },
    {
      "cell_type": "code",
      "source": "# Object Oriented Form of Complex Implementation\nclass Complex():\n    def __init__(self, a, b):\n        self.a = a\n        self.b = b\n        \n    def __add__(self, other):\n        return Complex(self.a + other.a, self.b + other.b)\n    \n    def __mul__(self, other):\n        a, b = self.a, self.b\n        c, d = other.a, other.b\n        return (a*c - b*d, a*d + b*c)\n    \n    def __repr__(self):\n        return f'({self.a}, {self.b})'",
      "metadata": {
        "trusted": true
      },
      "execution_count": 11,
      "outputs": []
    },
    {
      "cell_type": "markdown",
      "source": "In the above class overloading defined functions such as __add__, __mul__ and __repr__ allows us to use operators such as + and \\*, __repr__ also allows us to define what is returned when printing to the screen  ",
      "metadata": {}
    },
    {
      "cell_type": "code",
      "source": "#Instance X2 and Y2\nX2 = Complex(3, 7)\nY2 = Complex(-4, 5)",
      "metadata": {},
      "execution_count": null,
      "outputs": []
    }
  ]
}