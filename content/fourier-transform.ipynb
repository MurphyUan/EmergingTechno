{
  "cells": [
    {
      "cell_type": "markdown",
      "metadata": {},
      "source": [
        "Fast Fourier Transform\n",
        "====="
      ]
    },
    {
      "cell_type": "markdown",
      "metadata": {},
      "source": [
        "The fast Fourier transform (FFT) is an algorithm that efficiently computes the discrete Fourier transform (DFT) of a sequence, or its inverse. The Fourier transform is a mathematical technique that decomposes a function into its sinusoidal components, which can provide useful information about the properties of the function. The FFT is a widely used algorithm in various fields, including signal and image processing, computer graphics, and data analysis.\n",
        "\n",
        "A sinusoidal function, or sinusoidal wave, is a periodic function that oscillates around a fixed value. It is defined by the equation y = A sin(Bx + C) or y = A cos(Bx + C), where A is the amplitude of the wave, B is the frequency of the wave, and C is the phase shift of the wave. The sinusoidal function is named after the sine function, which is a special case of the sinusoidal function with a phase shift of C = 0.\n",
        "\n",
        "Sinusoidal functions are used to model periodic phenomena in a wide range of fields, including physics, engineering, economics, and biology. They are particularly useful for describing oscillating systems, such as oscillating springs, pendulums, and electrical circuits.\n",
        "\n",
        "Sinusoidal functions are characterized by their smooth, repetitive shape, which can be easily recognized by the distinctive \"sine\" or \"cosine\" shape. They are also periodic, meaning that they repeat after a fixed interval of time or space, and can be described by their wavelength and period.\n",
        "\n",
        "The FFT algorithm reduces the computational complexity of the DFT from O(N^2) to O(N log N), where N is the length of the sequence. This means that the FFT can compute the DFT of a sequence much faster than the standard algorithm, especially for large N.\n",
        "\n",
        "The FFT is a key tool in many signal processing applications, such as spectral analysis, filtering, and image manipulation. It is also used in a wide range of scientific and engineering fields, including physics, astronomy, and electrical engineering."
      ]
    },
    {
      "cell_type": "markdown",
      "metadata": {},
      "source": [
        "Complex Numbers\n",
        "====="
      ]
    },
    {
      "cell_type": "markdown",
      "metadata": {},
      "source": [
        "A complex number is a number in the form a + bi, where a and b are real numbers and i is the imaginary unit, defined as the square root of -1. The number a is called the real part of the complex number, and b is called the imaginary part.\n",
        "\n",
        "Complex numbers can be represented in the complex plane, which is a two-dimensional coordinate system where the real part of the complex number is plotted on the x-axis and the imaginary part is plotted on the y-axis. In this representation, a complex number is represented by a point in the plane, and the distance of the point from the origin (0,0) is called the magnitude, or modulus, of the complex number. The angle that the point makes with the positive x-axis is called the argument, or phase, of the complex number.\n",
        "\n",
        "Below I will give a demonstration on simple complex(imaginary) numbers / coordinates"
      ]
    },
    {
      "cell_type": "code",
      "execution_count": 2,
      "metadata": {
        "trusted": true
      },
      "outputs": [
        {
          "data": {
            "text/plain": [
              "(3, 7)"
            ]
          },
          "execution_count": 2,
          "metadata": {},
          "output_type": "execute_result"
        }
      ],
      "source": [
        "x1 = (3, 7)\n",
        "x1"
      ]
    },
    {
      "cell_type": "code",
      "execution_count": 4,
      "metadata": {
        "trusted": true
      },
      "outputs": [
        {
          "data": {
            "text/plain": [
              "(-4, 5)"
            ]
          },
          "execution_count": 4,
          "metadata": {},
          "output_type": "execute_result"
        }
      ],
      "source": [
        "y1 = (-4, 5)\n",
        "y1"
      ]
    },
    {
      "cell_type": "code",
      "execution_count": 6,
      "metadata": {
        "trusted": true
      },
      "outputs": [
        {
          "data": {
            "text/plain": [
              "(-1, 12)"
            ]
          },
          "execution_count": 6,
          "metadata": {},
          "output_type": "execute_result"
        }
      ],
      "source": [
        "# Addition\n",
        "def add(x, y):\n",
        "    return(x[0] + y[0], x[1] + y[1])"
      ]
    },
    {
      "cell_type": "code",
      "execution_count": 7,
      "metadata": {
        "trusted": true
      },
      "outputs": [
        {
          "data": {
            "text/plain": [
              "(-47, -13)"
            ]
          },
          "execution_count": 7,
          "metadata": {},
          "output_type": "execute_result"
        }
      ],
      "source": [
        "# Multiplication\n",
        "def multiply(x, y):\n",
        "    a, b = x\n",
        "    c, d = y\n",
        "    return (a*c - b*d, a*d + b*c)\n",
        "multiply(x1, y1)"
      ]
    },
    {
      "cell_type": "code",
      "execution_count": 10,
      "metadata": {
        "trusted": true
      },
      "outputs": [
        {
          "data": {
            "text/plain": [
              "(-1+12j)"
            ]
          },
          "execution_count": 10,
          "metadata": {},
          "output_type": "execute_result"
        }
      ],
      "source": [
        "# Built in Complex Type in Python\n",
        "complex\n",
        "\n",
        "(3 + 7j) + (-4 + 5j)"
      ]
    },
    {
      "cell_type": "code",
      "execution_count": 13,
      "metadata": {
        "trusted": true
      },
      "outputs": [],
      "source": [
        "# Object Oriented Form of Complex Implementation\n",
        "class Complex():\n",
        "    def __init__(self, a, b):\n",
        "        self.a = a\n",
        "        self.b = b\n",
        "        \n",
        "    def __add__(self, other):\n",
        "        return Complex(self.a + other.a, self.b + other.b)\n",
        "    \n",
        "    def __mul__(self, other):\n",
        "        a, b = self.a, self.b\n",
        "        c, d = other.a, other.b\n",
        "        return (a*c - b*d, a*d + b*c)\n",
        "    \n",
        "    def __repr__(self):\n",
        "        return f'({self.a}, {self.b})'"
      ]
    },
    {
      "cell_type": "markdown",
      "metadata": {},
      "source": [
        "In the above class overloading defined functions such as __add__, __mul__ and __repr__ allows us to use operators such as + and \\*, __repr__ also allows us to define what is returned when printing to the screen  "
      ]
    },
    {
      "cell_type": "code",
      "execution_count": 14,
      "metadata": {
        "trusted": true
      },
      "outputs": [
        {
          "data": {
            "text/plain": [
              "(3, 7)"
            ]
          },
          "execution_count": 14,
          "metadata": {},
          "output_type": "execute_result"
        }
      ],
      "source": [
        "#Instance X2 and Y2\n",
        "X2 = Complex(3, 7)\n",
        "Y2 = Complex(-4, 5)\n",
        "\n",
        "X2"
      ]
    },
    {
      "cell_type": "code",
      "execution_count": 15,
      "metadata": {
        "trusted": true
      },
      "outputs": [
        {
          "data": {
            "text/plain": [
              "(-4, 5)"
            ]
          },
          "execution_count": 15,
          "metadata": {},
          "output_type": "execute_result"
        }
      ],
      "source": [
        "Y2"
      ]
    },
    {
      "cell_type": "code",
      "execution_count": 16,
      "metadata": {
        "trusted": true
      },
      "outputs": [
        {
          "data": {
            "text/plain": [
              "(-1, 12)"
            ]
          },
          "execution_count": 16,
          "metadata": {},
          "output_type": "execute_result"
        }
      ],
      "source": [
        "X2 + Y2"
      ]
    },
    {
      "cell_type": "code",
      "execution_count": 17,
      "metadata": {
        "trusted": true
      },
      "outputs": [
        {
          "data": {
            "text/plain": [
              "(-47, -13)"
            ]
          },
          "execution_count": 17,
          "metadata": {},
          "output_type": "execute_result"
        }
      ],
      "source": [
        "X2 * Y2"
      ]
    },
    {
      "cell_type": "markdown",
      "metadata": {},
      "source": [
        "Plots of Parabolas\n",
        "====="
      ]
    },
    {
      "cell_type": "markdown",
      "metadata": {},
      "source": [
        "A parabola is a curve in a plane defined by the equation\n",
        "$$y = ax^2 + bx + c$$\n",
        "where $a$, $b$, and $c$ are constants. The graph of a parabola is a symmetrical U-shape, and the vertex of the parabola is the point that is the highest or lowest point on the curve, depending on whether the parabola opens upwards or downwards.\n",
        "\n",
        "Complex numbers are numbers that can be written in the form a + bi, where a and b are real numbers and i is the square root of -1. Complex numbers can be plotted on a complex plane, which is similar to the Cartesian coordinate plane but with the real numbers on the horizontal axis and the imaginary numbers on the vertical axis.\n",
        "\n",
        "If you have a parabolic equation in the form $y = ax^2 + bx + c$, you can plot the points on the complex plane by substituting the complex number $x + yi$ for $x$ in the equation. The resulting complex numbers can then be plotted on the complex plane. For example, if you have the equation $y = x^2 + 2x + 3$, and you substitute $x + 2i$ for $x$, you will get the complex number $(x + 2i)^2 + 2(x + 2i) + 3$, which can be plotted on the complex plane.\n",
        "\n",
        "For the Purposes of demonstration, below will be a number of variations of $x^2$ where $x$ will represent __Real Numbers__ and $y$ will represent the __Complex Numbers__."
      ]
    },
    {
      "cell_type": "code",
      "execution_count": 1,
      "metadata": {
        "trusted": true
      },
      "outputs": [],
      "source": [
        "import matplotlib.pyplot as plt\n",
        "import numpy as np"
      ]
    },
    {
      "cell_type": "code",
      "execution_count": 9,
      "metadata": {
        "trusted": true
      },
      "outputs": [
        {
          "data": {
            "image/png": "[encoded data removed]",
            "text/plain": [
              "<pyolite.display.Image at 0x3168df0>"
            ]
          },
          "metadata": {},
          "output_type": "display_data"
        }
      ],
      "source": [
        "x = np.linspace(-6.0, 6.0, 1000)\n",
        "\n",
        "x1 = x**2\n",
        "x2 = x**2 - 20\n",
        "x3 = x**2 + 20\n",
        "\n",
        "plt.subplot(1,3,1)\n",
        "plt.plot(x, x1, 'b')\n",
        "plt.axhline(0.0)\n",
        "\n",
        "plt.subplot(1,3,2)\n",
        "plt.plot(x, x2, 'b')\n",
        "plt.axhline(0.0)\n",
        "\n",
        "plt.subplot(1,3,3)\n",
        "plt.plot(x, x3, 'b')\n",
        "plt.axhline(0.0)\n",
        "plt.show()"
      ]
    },
    {
      "cell_type": "markdown",
      "metadata": {},
      "source": [
        "Quadratic Formula\n",
        "====="
      ]
    },
    {
      "cell_type": "markdown",
      "metadata": {},
      "source": [
        "As shown above are three Quadratic Parabolas, for some of these parabolas we can see that there are contact points between the __parabolic__ lines and the line at the horizontal axis to find these contact points we can use the following: \n",
        "\n",
        "**Quadratic Equation**\n",
        "$$f(x) = ax^2 + bx + c$$\n",
        "**-B Formula**\n",
        "$$f(x) = 0 \\Rightarrow x = \\frac{-b± \\sqrt{b^2 - 4ac}}{2a}$$"
      ]
    },
    {
      "cell_type": "code",
      "execution_count": 18,
      "metadata": {
        "trusted": true
      },
      "outputs": [],
      "source": [
        "def formula(a,b,c):\n",
        "    sqrt = (b ** 2 - 4 * a * c) ** 0.5\n",
        "    return [(-b - sqrt) / (2 * a), (-b + sqrt) / (2 * a)]"
      ]
    },
    {
      "cell_type": "code",
      "execution_count": 19,
      "metadata": {
        "trusted": true
      },
      "outputs": [
        {
          "data": {
            "text/plain": [
              "[0.0, 0.0]"
            ]
          },
          "execution_count": 19,
          "metadata": {},
          "output_type": "execute_result"
        }
      ],
      "source": [
        "# The Y intersects of x1\n",
        "formula(1, 0, 0)"
      ]
    },
    {
      "cell_type": "code",
      "execution_count": 20,
      "metadata": {
        "trusted": true
      },
      "outputs": [
        {
          "data": {
            "text/plain": [
              "[-4.47213595499958, 4.47213595499958]"
            ]
          },
          "execution_count": 20,
          "metadata": {},
          "output_type": "execute_result"
        }
      ],
      "source": [
        "# The Y intersects of x2\n",
        "formula(1, 0, -20)"
      ]
    },
    {
      "cell_type": "code",
      "execution_count": 21,
      "metadata": {
        "trusted": true
      },
      "outputs": [
        {
          "data": {
            "text/plain": [
              "[(-2.7383934913210134e-16-4.47213595499958j),\n",
              " (2.7383934913210134e-16+4.47213595499958j)]"
            ]
          },
          "execution_count": 21,
          "metadata": {},
          "output_type": "execute_result"
        }
      ],
      "source": [
        "# The Y intersects of x3\n",
        "formula(1, 0, 20)"
      ]
    },
    {
      "cell_type": "code",
      "execution_count": 22,
      "metadata": {
        "trusted": true
      },
      "outputs": [
        {
          "name": "stdout",
          "output_type": "stream",
          "text": [
            "-0.0-4.5j, 0.0+4.5j\n"
          ]
        }
      ],
      "source": [
        "# The Y intersect of x3 using Complex Numbers instead of Real Numbers\n",
        "x_1, x_2 = formula(1, 0, 20)\n",
        "print(f'{x_1:.1f}, {x_2:.1f}')"
      ]
    },
    {
      "cell_type": "markdown",
      "metadata": {},
      "source": [
        "Even though clearly the line doesn't intersect with the y-axis we can substitute the real result and perform some complex magic that gives an approximate value for the Y intersect of the $f(x) = x^2 + 20$. By using complex numbers, we are able to extend the concept of the y-intercept to include solutions that are not real numbers.By using complex numbers, we are able to extend the concept of the y-intercept to include solutions that are not real numbers."
      ]
    },
    {
      "cell_type": "markdown",
      "metadata": {},
      "source": [
        "Fourier Transform\n",
        "====="
      ]
    },
    {
      "cell_type": "code",
      "execution_count": null,
      "metadata": {},
      "outputs": [],
      "source": []
    }
  ],
  "metadata": {
    "kernelspec": {
      "display_name": "base",
      "language": "python",
      "name": "python3"
    },
    "language_info": {
      "codemirror_mode": {
        "name": "ipython",
        "version": 3
      },
      "file_extension": ".py",
      "mimetype": "text/x-python",
      "name": "python",
      "nbconvert_exporter": "python",
      "pygments_lexer": "ipython3",
      "version": "3.9.7"
    },
    "vscode": {
      "interpreter": {
        "hash": "cc64920957a4294a6ab18984e1c6325dbb779dd3663b17aa9a450aa6820abc21"
      }
    }
  },
  "nbformat": 4,
  "nbformat_minor": 4
}
