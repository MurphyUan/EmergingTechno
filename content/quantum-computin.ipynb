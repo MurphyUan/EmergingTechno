{
  "metadata": {
    "language_info": {
      "codemirror_mode": {
        "name": "python",
        "version": 3
      },
      "file_extension": ".py",
      "mimetype": "text/x-python",
      "name": "python",
      "nbconvert_exporter": "python",
      "pygments_lexer": "ipython3",
      "version": "3.8"
    },
    "kernelspec": {
      "name": "python",
      "display_name": "Python (Pyodide)",
      "language": "python"
    }
  },
  "nbformat_minor": 4,
  "nbformat": 4,
  "cells": [
    {
      "cell_type": "markdown",
      "source": "Quantum Computing\n=====",
      "metadata": {}
    },
    {
      "cell_type": "markdown",
      "source": "Quantum computing is a type of computing that is based on the principles of quantum mechanics, which is a branch of physics that describes the behavior of matter and energy at the atomic and subatomic scale.\n\nIn a classical computer, information is stored in bits, which are represented by either 0s or 1s. Quantum computers, on the other hand, use quantum bits, or qubits, which can represent both 0s and 1s simultaneously. This property, known as superposition, allows quantum computers to perform certain types of calculations much faster than classical computers.\n\nIn addition to superposition, quantum computers also make use of another quantum mechanical phenomenon called entanglement, which allows the state of one qubit to be correlated with the state of another qubit, even if they are separated by large distances. This allows quantum computers to perform certain types of calculations that are not possible with classical computers.\n\nQuantum computers are still in the early stages of development, and they are not yet widely available. However, they have the potential to solve certain types of problems much faster than classical computers, and they are being actively researched and developed by companies and research institutions around the world.",
      "metadata": {}
    },
    {
      "cell_type": "markdown",
      "source": "Flipping a Coin / Probability\n=====",
      "metadata": {}
    },
    {
      "cell_type": "markdown",
      "source": "Understanding a coin flip can be useful for understanding quantum computing because it can help to illustrate some of the fundamental principles of quantum mechanics, which are the foundation of quantum computing.\n\nIn a classical interpretation of a coin flip, the coin has two possible outcomes: heads or tails. Before the coin is flipped, it is either in the \"heads\" state or the \"tails\" state, and after the flip, it is in one of these two states with probability 1. In other words, the state of the coin is determined before the flip and is not affected by any external factors.\n\nIn contrast, in quantum mechanics, the state of a system (such as a coin) is not determined until it is measured. This means that before the measurement, the coin is in a superposition of both the \"heads\" and \"tails\" states, and its state is only determined when it is observed. This idea is known as the uncertainty principle, and it is one of the fundamental principles of quantum mechanics.\n\nThis concept can be difficult to wrap our heads around because it goes against our classical intuition, but it is a key idea in quantum mechanics and is central to the operation of quantum computers.",
      "metadata": {}
    },
    {
      "cell_type": "code",
      "source": "import numpy as np\nimport seaborn as sns\nimport random\nimport itertools",
      "metadata": {
        "trusted": true
      },
      "execution_count": 1,
      "outputs": [
        {
          "ename": "<class 'ModuleNotFoundError'>",
          "evalue": "No module named 'seaborn'",
          "traceback": [
            "\u001b[0;31m---------------------------------------------------------------------------\u001b[0m",
            "\u001b[0;31mModuleNotFoundError\u001b[0m                       Traceback (most recent call last)",
            "Cell \u001b[0;32mIn[1], line 2\u001b[0m\n\u001b[1;32m      1\u001b[0m \u001b[38;5;28;01mimport\u001b[39;00m \u001b[38;5;21;01mnumpy\u001b[39;00m \u001b[38;5;28;01mas\u001b[39;00m \u001b[38;5;21;01mnp\u001b[39;00m\n\u001b[0;32m----> 2\u001b[0m \u001b[38;5;28;01mimport\u001b[39;00m \u001b[38;5;21;01mseaborn\u001b[39;00m \u001b[38;5;28;01mas\u001b[39;00m \u001b[38;5;21;01msns\u001b[39;00m\n\u001b[1;32m      3\u001b[0m \u001b[38;5;28;01mimport\u001b[39;00m \u001b[38;5;21;01mrandom\u001b[39;00m\n\u001b[1;32m      4\u001b[0m \u001b[38;5;28;01mimport\u001b[39;00m \u001b[38;5;21;01mitertools\u001b[39;00m\n",
            "\u001b[0;31mModuleNotFoundError\u001b[0m: No module named 'seaborn'"
          ],
          "output_type": "error"
        }
      ]
    },
    {
      "cell_type": "code",
      "source": "",
      "metadata": {
        "trusted": true
      },
      "execution_count": null,
      "outputs": []
    },
    {
      "cell_type": "code",
      "source": "",
      "metadata": {},
      "execution_count": null,
      "outputs": []
    }
  ]
}