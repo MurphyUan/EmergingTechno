{
  "cells": [
    {
      "cell_type": "markdown",
      "metadata": {},
      "source": [
        "Quantum Computing\n",
        "====="
      ]
    },
    {
      "cell_type": "markdown",
      "metadata": {},
      "source": [
        "Quantum computing is a type of computing that is based on the principles of quantum mechanics, which is a branch of physics that describes the behavior of matter and energy at the atomic and subatomic scale.\n",
        "\n",
        "In a classical computer, information is stored in bits, which are represented by either 0s or 1s. Quantum computers, on the other hand, use quantum bits, or qubits, which can represent both 0s and 1s simultaneously. This property, known as superposition, allows quantum computers to perform certain types of calculations much faster than classical computers.\n",
        "\n",
        "In addition to superposition, quantum computers also make use of another quantum mechanical phenomenon called entanglement, which allows the state of one qubit to be correlated with the state of another qubit, even if they are separated by large distances. This allows quantum computers to perform certain types of calculations that are not possible with classical computers.\n",
        "\n",
        "Quantum computers are still in the early stages of development, and they are not yet widely available. However, they have the potential to solve certain types of problems much faster than classical computers, and they are being actively researched and developed by companies and research institutions around the world."
      ]
    },
    {
      "cell_type": "markdown",
      "metadata": {},
      "source": [
        "Flipping a Coin / Probability\n",
        "====="
      ]
    },
    {
      "cell_type": "markdown",
      "metadata": {},
      "source": [
        "Understanding a coin flip can be useful for understanding quantum computing because it can help to illustrate some of the fundamental principles of quantum mechanics, which are the foundation of quantum computing.\n",
        "\n",
        "In a classical interpretation of a coin flip, the coin has two possible outcomes: heads or tails. Before the coin is flipped, it is either in the \"heads\" state or the \"tails\" state, and after the flip, it is in one of these two states with probability 1. In other words, the state of the coin is determined before the flip and is not affected by any external factors.\n",
        "\n",
        "In contrast, in quantum mechanics, the state of a system (such as a coin) is not determined until it is measured. This means that before the measurement, the coin is in a superposition of both the \"heads\" and \"tails\" states, and its state is only determined when it is observed. This idea is known as the uncertainty principle, and it is one of the fundamental principles of quantum mechanics.\n",
        "\n",
        "This concept can be difficult to wrap our heads around because it goes against our classical intuition, but it is a key idea in quantum mechanics and is central to the operation of quantum computers."
      ]
    },
    {
      "cell_type": "code",
      "execution_count": 1,
      "metadata": {
        "trusted": true
      },
      "outputs": [],
      "source": [
        "import numpy as np\n",
        "import seaborn as sns\n",
        "import random\n",
        "import itertools"
      ]
    },
    {
      "cell_type": "code",
      "execution_count": 3,
      "metadata": {
        "trusted": true
      },
      "outputs": [
        {
          "data": {
            "text/plain": [
              "0"
            ]
          },
          "execution_count": 3,
          "metadata": {},
          "output_type": "execute_result"
        }
      ],
      "source": [
        "np.random.binomial(1, 0.5) # Flip a Coin"
      ]
    },
    {
      "cell_type": "code",
      "execution_count": 4,
      "metadata": {},
      "outputs": [
        {
          "data": {
            "text/plain": [
              "array([0, 1, 0, 1, 0, 0, 1, 0, 1, 1, 0, 1, 0, 0, 1, 0, 1, 0, 0, 0, 1, 0,\n",
              "       1, 1, 1, 1, 0, 0, 1, 0, 0, 1, 1, 0, 1, 0, 0, 0, 0, 1, 0, 0, 0, 0,\n",
              "       0, 1, 0, 1, 0, 0, 0, 1, 0, 0, 1, 1, 1, 0, 1, 1, 1, 0, 1, 0, 1, 1,\n",
              "       1, 1, 1, 1, 0, 0, 0, 1, 1, 1, 0, 0, 1, 1, 1, 0, 1, 0, 1, 1, 1, 0,\n",
              "       1, 1, 0, 0, 0, 1, 0, 1, 1, 0, 0, 1])"
            ]
          },
          "execution_count": 4,
          "metadata": {},
          "output_type": "execute_result"
        }
      ],
      "source": [
        "np.random.binomial(1, 0.5, 100) # Flip a Coin, 100 times"
      ]
    },
    {
      "cell_type": "code",
      "execution_count": 7,
      "metadata": {},
      "outputs": [
        {
          "data": {
            "text/plain": [
              "56"
            ]
          },
          "execution_count": 7,
          "metadata": {},
          "output_type": "execute_result"
        }
      ],
      "source": [
        "np.random.binomial(100, 0.5) # Flip a Coin, 100 times, Iterating when lands on heads"
      ]
    },
    {
      "cell_type": "code",
      "execution_count": 8,
      "metadata": {},
      "outputs": [
        {
          "data": {
            "text/plain": [
              "<AxesSubplot:ylabel='count'>"
            ]
          },
          "execution_count": 8,
          "metadata": {},
          "output_type": "execute_result"
        },
        {
          "data": {
            "image/png": "[encoded data removed]",
            "text/plain": [
              "<Figure size 432x288 with 1 Axes>"
            ]
          },
          "metadata": {
            "needs_background": "light"
          },
          "output_type": "display_data"
        }
      ],
      "source": [
        "# Display Frequency Plot of 1mil Coin Flips\n",
        "sns.countplot(x = np.random.binomial(1, 0.5, 1000000))"
      ]
    },
    {
      "cell_type": "code",
      "execution_count": 9,
      "metadata": {},
      "outputs": [
        {
          "data": {
            "text/plain": [
              "<AxesSubplot:ylabel='count'>"
            ]
          },
          "execution_count": 9,
          "metadata": {},
          "output_type": "execute_result"
        },
        {
          "data": {
            "image/png": "[encoded data removed]",
            "text/plain": [
              "<Figure size 432x288 with 1 Axes>"
            ]
          },
          "metadata": {
            "needs_background": "light"
          },
          "output_type": "display_data"
        }
      ],
      "source": [
        "# Frequency of results when two coins are flipped 1mil times\n",
        "sns.countplot(x = np.random.binomial(2, 0.5, 1000000))"
      ]
    },
    {
      "cell_type": "code",
      "execution_count": 10,
      "metadata": {},
      "outputs": [
        {
          "data": {
            "text/plain": [
              "<AxesSubplot:ylabel='count'>"
            ]
          },
          "execution_count": 10,
          "metadata": {},
          "output_type": "execute_result"
        },
        {
          "data": {
            "image/png": "[encoded data removed]",
            "text/plain": [
              "<Figure size 432x288 with 1 Axes>"
            ]
          },
          "metadata": {
            "needs_background": "light"
          },
          "output_type": "display_data"
        }
      ],
      "source": [
        "# Outcomes of flipping 3 coins\n",
        "sns.countplot(x = np.random.binomial(3, 0.5, 1000000))"
      ]
    },
    {
      "cell_type": "code",
      "execution_count": 11,
      "metadata": {},
      "outputs": [
        {
          "data": {
            "text/plain": [
              "<AxesSubplot:ylabel='count'>"
            ]
          },
          "execution_count": 11,
          "metadata": {},
          "output_type": "execute_result"
        },
        {
          "data": {
            "image/png": "[encoded data removed]",
            "text/plain": [
              "<Figure size 432x288 with 1 Axes>"
            ]
          },
          "metadata": {
            "needs_background": "light"
          },
          "output_type": "display_data"
        }
      ],
      "source": [
        "# Outcomes of Flipping 50 coins 1mil times\n",
        "sns.countplot(x = np.random.binomial(50, 0.5, 1000000))"
      ]
    },
    {
      "attachments": {},
      "cell_type": "markdown",
      "metadata": {},
      "source": [
        "As you can see there is an equal distribution of results from the above *experiments*. This shows that no matter the amount of *bits* flipped at a single time, their results are deterministic based off of their *superposition*."
      ]
    },
    {
      "attachments": {},
      "cell_type": "markdown",
      "metadata": {},
      "source": [
        "Quantum Gates\n",
        "====="
      ]
    },
    {
      "attachments": {},
      "cell_type": "markdown",
      "metadata": {},
      "source": [
        "Quantum gates are the basic building blocks of quantum circuits. They are used to perform quantum operations on qubits, which are the quantum analogs of classical bits (0, 1).\n",
        "\n",
        "There are a range of Quantum Gates, each one performs a specific operation on the qubits it acts on, these include **X, Y, Z, H and T Gates**.\n",
        "\n",
        "For Demonstration purposes I will be using the qiskit python package to show each Gate"
      ]
    },
    {
      "cell_type": "code",
      "execution_count": 3,
      "metadata": {},
      "outputs": [],
      "source": [
        "import qiskit\n",
        "import qiskit.visualization as viz"
      ]
    },
    {
      "attachments": {},
      "cell_type": "markdown",
      "metadata": {},
      "source": [
        "X Gate\n",
        "=====\n",
        "<hr/>"
      ]
    },
    {
      "attachments": {},
      "cell_type": "markdown",
      "metadata": {},
      "source": [
        "The X Gate, the NOT gate of quantum gates, is a gate that flips the state of a qubit from 0 to 1 and 1 to 0."
      ]
    },
    {
      "cell_type": "code",
      "execution_count": 45,
      "metadata": {},
      "outputs": [
        {
          "data": {
            "text/html": [
              "<pre style=\"word-wrap: normal;white-space: pre;background: #fff0;line-height: 1.1;font-family: &quot;Courier New&quot;,Courier,monospace\">     ┌─────────────────┐┌───┐┌─┐\n",
              "  q: ┤ Initialize(1,0) ├┤ X ├┤M├\n",
              "     └─────────────────┘└───┘└╥┘\n",
              "c: 1/═════════════════════════╩═\n",
              "                              0 </pre>"
            ],
            "text/plain": [
              "     ┌─────────────────┐┌───┐┌─┐\n",
              "  q: ┤ Initialize(1,0) ├┤ X ├┤M├\n",
              "     └─────────────────┘└───┘└╥┘\n",
              "c: 1/═════════════════════════╩═\n",
              "                              0 "
            ]
          },
          "execution_count": 45,
          "metadata": {},
          "output_type": "execute_result"
        }
      ],
      "source": [
        "circuit = qiskit.QuantumCircuit(1,1) # Create circuit\n",
        "circuit.initialize([0, 1], 0) # Set State to |1>\n",
        "circuit.x(0) # Add X Gate\n",
        "circuit.measure(0, 0) # Measure / Determine State of Gate\n",
        "circuit.draw()"
      ]
    },
    {
      "cell_type": "code",
      "execution_count": 46,
      "metadata": {},
      "outputs": [
        {
          "data": {
            "image/png": "[encoded data removed]",
            "text/plain": [
              "<Figure size 216x216 with 1 Axes>"
            ]
          },
          "execution_count": 46,
          "metadata": {},
          "output_type": "execute_result"
        }
      ],
      "source": [
        "sim = qiskit.Aer.get_backend('aer_simulator') # Get a Simulator\n",
        "result = sim.run(circuit).result().get_counts() # Simulate Circuit\n",
        "viz.plot_histogram(result, figsize=(3, 3)) # Display on Histogram\n"
      ]
    },
    {
      "attachments": {},
      "cell_type": "markdown",
      "metadata": {},
      "source": [
        "Y Gate\n",
        "=====\n",
        "<hr/>"
      ]
    },
    {
      "attachments": {},
      "cell_type": "markdown",
      "metadata": {},
      "source": [
        "The Y gate is a quantum gate that rotates the state of a qubit around the Y axis of the Bloch sphere, which is a graphical representation of the state of a qubit. It is one of the basic building blocks of quantum circuits, and it is often used to perform logical operations on qubits.\n",
        "\n",
        "The Y gate is represented by a matrix in quantum computing, and the matrix for the Y gate is given by:\n",
        "\n",
        "[0 -i]\n",
        "[i 0]\n",
        "\n",
        "The Y gate acts on a single qubit, and when it is applied to a qubit, it rotates the state of the qubit around the Y axis of the Bloch sphere. The Y gate is closely related to the X gate and the Z gate, which are other basic quantum gates that are used to manipulate the state of qubits."
      ]
    },
    {
      "cell_type": "code",
      "execution_count": 48,
      "metadata": {},
      "outputs": [
        {
          "data": {
            "text/html": [
              "<pre style=\"word-wrap: normal;white-space: pre;background: #fff0;line-height: 1.1;font-family: &quot;Courier New&quot;,Courier,monospace\">     ┌─────────────────┐┌───┐┌─┐\n",
              "  q: ┤ Initialize(0,1) ├┤ Y ├┤M├\n",
              "     └─────────────────┘└───┘└╥┘\n",
              "c: 1/═════════════════════════╩═\n",
              "                              0 </pre>"
            ],
            "text/plain": [
              "     ┌─────────────────┐┌───┐┌─┐\n",
              "  q: ┤ Initialize(0,1) ├┤ Y ├┤M├\n",
              "     └─────────────────┘└───┘└╥┘\n",
              "c: 1/═════════════════════════╩═\n",
              "                              0 "
            ]
          },
          "execution_count": 48,
          "metadata": {},
          "output_type": "execute_result"
        }
      ],
      "source": [
        "circuit = qiskit.QuantumCircuit(1, 1) # Create New Circuit\n",
        "circuit.initialize([0, 1], 0) # Set State to |1>\n",
        "circuit.y(0) # Add a Y Gate\n",
        "circuit.measure(0, 0) # Measure / Determine State\n",
        "circuit.draw() # Draw Circuit"
      ]
    },
    {
      "cell_type": "code",
      "execution_count": 47,
      "metadata": {},
      "outputs": [
        {
          "data": {
            "image/png": "[encoded data removed]",
            "text/plain": [
              "<Figure size 216x216 with 1 Axes>"
            ]
          },
          "execution_count": 47,
          "metadata": {},
          "output_type": "execute_result"
        }
      ],
      "source": [
        "sim = qiskit.Aer.get_backend('aer_simulator') # Get Simulator\n",
        "result = sim.run(circuit).result().get_counts( )# Simulate Above Circuit\n",
        "viz.plot_histogram(result, figsize=(3, 3)) # Display Histogram \n"
      ]
    },
    {
      "attachments": {},
      "cell_type": "markdown",
      "metadata": {},
      "source": [
        "Z Gate\n",
        "=====\n",
        "<hr/>"
      ]
    },
    {
      "attachments": {},
      "cell_type": "markdown",
      "metadata": {},
      "source": [
        "The Z gate is a quantum gate that rotates the state of a qubit around the Z axis of the Bloch sphere, which is a graphical representation of the state of a qubit. It is one of the basic building blocks of quantum circuits, and it is often used to perform logical operations on qubits.\n",
        "\n",
        "The Z gate is represented by a matrix in quantum computing, and the matrix for the Z gate is given by:\n",
        "\n",
        "[1 0]\n",
        "[0 -1]"
      ]
    },
    {
      "cell_type": "code",
      "execution_count": 49,
      "metadata": {},
      "outputs": [
        {
          "data": {
            "text/html": [
              "<pre style=\"word-wrap: normal;white-space: pre;background: #fff0;line-height: 1.1;font-family: &quot;Courier New&quot;,Courier,monospace\">     ┌─────────────────┐┌───┐┌─┐\n",
              "  q: ┤ Initialize(0,1) ├┤ Z ├┤M├\n",
              "     └─────────────────┘└───┘└╥┘\n",
              "c: 1/═════════════════════════╩═\n",
              "                              0 </pre>"
            ],
            "text/plain": [
              "     ┌─────────────────┐┌───┐┌─┐\n",
              "  q: ┤ Initialize(0,1) ├┤ Z ├┤M├\n",
              "     └─────────────────┘└───┘└╥┘\n",
              "c: 1/═════════════════════════╩═\n",
              "                              0 "
            ]
          },
          "execution_count": 49,
          "metadata": {},
          "output_type": "execute_result"
        }
      ],
      "source": [
        "circuit = qiskit.QuantumCircuit(1, 1) # Create Circuit\n",
        "circuit.initialize([0, 1], 0) # Set State to |1>\n",
        "circuit.z(0) # Add Z Gate\n",
        "circuit.measure(0, 0)\n",
        "circuit.draw()"
      ]
    },
    {
      "cell_type": "code",
      "execution_count": 50,
      "metadata": {},
      "outputs": [
        {
          "data": {
            "image/png": "[encoded data removed]",
            "text/plain": [
              "<Figure size 216x216 with 1 Axes>"
            ]
          },
          "execution_count": 50,
          "metadata": {},
          "output_type": "execute_result"
        }
      ],
      "source": [
        "sim = qiskit.Aer.get_backend('aer_simulator') # Get Simulator\n",
        "result = sim.run(circuit).result().get_counts() # Simulte the circuit.\n",
        "viz.plot_histogram(result, figsize=(3, 3)) # Histogram."
      ]
    },
    {
      "attachments": {},
      "cell_type": "markdown",
      "metadata": {},
      "source": [
        "H Gate\n",
        "=====\n",
        "<hr/>"
      ]
    },
    {
      "attachments": {},
      "cell_type": "markdown",
      "metadata": {},
      "source": [
        "The H gate is a quantum gate that transforms a qubit into a superposition of the 0 and 1 states. It is one of the basic building blocks of quantum circuits, and it is often used to perform logical operations on qubits.\n",
        "\n",
        "The H gate is represented by a matrix in quantum computing, and the matrix for the H gate is given by:\n",
        "\n",
        "[1 1]\n",
        "[1 -1]\n",
        "\n",
        "The H gate acts on a single qubit, and when it is applied to a qubit, it transforms the state of the qubit into a superposition of the 0 and 1 states. This means that the qubit is in both the 0 state and the 1 state simultaneously, and its state is not determined until it is measured."
      ]
    },
    {
      "cell_type": "code",
      "execution_count": 51,
      "metadata": {},
      "outputs": [
        {
          "data": {
            "text/html": [
              "<pre style=\"word-wrap: normal;white-space: pre;background: #fff0;line-height: 1.1;font-family: &quot;Courier New&quot;,Courier,monospace\">     ┌─────────────────┐┌───┐┌─┐\n",
              "  q: ┤ Initialize(0,1) ├┤ H ├┤M├\n",
              "     └─────────────────┘└───┘└╥┘\n",
              "c: 1/═════════════════════════╩═\n",
              "                              0 </pre>"
            ],
            "text/plain": [
              "     ┌─────────────────┐┌───┐┌─┐\n",
              "  q: ┤ Initialize(0,1) ├┤ H ├┤M├\n",
              "     └─────────────────┘└───┘└╥┘\n",
              "c: 1/═════════════════════════╩═\n",
              "                              0 "
            ]
          },
          "execution_count": 51,
          "metadata": {},
          "output_type": "execute_result"
        }
      ],
      "source": [
        "circuit = qiskit.QuantumCircuit(1, 1) # Create circuit\n",
        "circuit.initialize([0, 1], 0)\n",
        "circuit.h(0)\n",
        "circuit.measure(0, 0)\n",
        "circuit.draw()"
      ]
    },
    {
      "cell_type": "code",
      "execution_count": 52,
      "metadata": {},
      "outputs": [
        {
          "data": {
            "image/png": "[encoded data removed]",
            "text/plain": [
              "<Figure size 216x216 with 1 Axes>"
            ]
          },
          "execution_count": 52,
          "metadata": {},
          "output_type": "execute_result"
        }
      ],
      "source": [
        "sim = qiskit.Aer.get_backend('aer_simulator')\n",
        "result = sim.run(circuit).result().get_counts()\n",
        "viz.plot_histogram(result, figsize=(3, 3))"
      ]
    },
    {
      "attachments": {},
      "cell_type": "markdown",
      "metadata": {},
      "source": [
        "T Gate\n",
        "=====\n",
        "<hr/>"
      ]
    },
    {
      "attachments": {},
      "cell_type": "markdown",
      "metadata": {},
      "source": [
        "The T gate is a quantum gate that rotates the state of a qubit around the T axis of the Bloch sphere, which is a graphical representation of the state of a qubit. It is one of the basic building blocks of quantum circuits, and it is often used to perform logical operations on qubits.\n",
        "\n",
        "The T gate is represented by a matrix in quantum computing, and the matrix for the T gate is given by:\n",
        "\n",
        "[1 0]\n",
        "[0 e^(i*pi/4)]"
      ]
    },
    {
      "cell_type": "code",
      "execution_count": 53,
      "metadata": {},
      "outputs": [
        {
          "data": {
            "text/html": [
              "<pre style=\"word-wrap: normal;white-space: pre;background: #fff0;line-height: 1.1;font-family: &quot;Courier New&quot;,Courier,monospace\">     ┌─────────────────┐┌───┐┌─┐\n",
              "  q: ┤ Initialize(0,1) ├┤ T ├┤M├\n",
              "     └─────────────────┘└───┘└╥┘\n",
              "c: 1/═════════════════════════╩═\n",
              "                              0 </pre>"
            ],
            "text/plain": [
              "     ┌─────────────────┐┌───┐┌─┐\n",
              "  q: ┤ Initialize(0,1) ├┤ T ├┤M├\n",
              "     └─────────────────┘└───┘└╥┘\n",
              "c: 1/═════════════════════════╩═\n",
              "                              0 "
            ]
          },
          "execution_count": 53,
          "metadata": {},
          "output_type": "execute_result"
        }
      ],
      "source": [
        "circuit = qiskit.QuantumCircuit(1, 1)\n",
        "circuit.initialize([0, 1], 0)\n",
        "circuit.t(0)\n",
        "circuit.measure(0, 0)\n",
        "circuit.draw()"
      ]
    },
    {
      "cell_type": "code",
      "execution_count": 54,
      "metadata": {},
      "outputs": [
        {
          "data": {
            "image/png": "[encoded data removed]",
            "text/plain": [
              "<Figure size 216x216 with 1 Axes>"
            ]
          },
          "execution_count": 54,
          "metadata": {},
          "output_type": "execute_result"
        }
      ],
      "source": [
        "sim = qiskit.Aer.get_backend('aer_simulator')\n",
        "result = sim.run(circuit).result().get_counts()\n",
        "viz.plot_histogram(result, figsize=(3, 3))"
      ]
    },
    {
      "attachments": {},
      "cell_type": "markdown",
      "metadata": {},
      "source": [
        "Deutsch Algorithm\n",
        "====="
      ]
    }
  ],
  "metadata": {
    "kernelspec": {
      "display_name": "base",
      "language": "python",
      "name": "python3"
    },
    "language_info": {
      "codemirror_mode": {
        "name": "ipython",
        "version": 3
      },
      "file_extension": ".py",
      "mimetype": "text/x-python",
      "name": "python",
      "nbconvert_exporter": "python",
      "pygments_lexer": "ipython3",
      "version": "3.9.7"
    },
    "vscode": {
      "interpreter": {
        "hash": "cc64920957a4294a6ab18984e1c6325dbb779dd3663b17aa9a450aa6820abc21"
      }
    }
  },
  "nbformat": 4,
  "nbformat_minor": 4
}
